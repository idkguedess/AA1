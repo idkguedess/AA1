{
 "cells": [
  {
   "cell_type": "code",
   "execution_count": 6,
   "metadata": {},
   "outputs": [],
   "source": [
    "import pandas as pd\n",
    "import numpy as np\n",
    "import matplotlib.pyplot as plt\n",
    "\n",
    "# crear un folder para guardar los datos\n",
    "import os\n",
    "FOLDER = \"data\"\n",
    "if not os.path.exists(FOLDER):\n",
    "    os.mkdir(FOLDER)"
   ]
  },
  {
   "cell_type": "markdown",
   "metadata": {},
   "source": [
    "# Pandas"
   ]
  },
  {
   "cell_type": "markdown",
   "metadata": {},
   "source": [
    "## 1. Crear un archivo csv con el siguiente contenido."
   ]
  },
  {
   "cell_type": "code",
   "execution_count": 7,
   "metadata": {},
   "outputs": [],
   "source": [
    "data = {\n",
    "    \"marca\": [\"Seat\", \"Seat\", \"VW\", \"Opel\", \"VW\", \"Seat\", \"VW\", \"Opel\", \"Seat\", \"Seat\", \"Opel\", \"Opel\", \"Seat\", \"Opel\", \"Opel\"],\n",
    "    \"modelo\": [\"Ibiza\", \"Ibiza\", \"Polo\", \"Corsa\", \"Golf\", \"Arona\", \"Polo\", \"Corsa\", \"Leon\", \"Arona\", \"Corsa\", \"Corsa\", \"Ibiza\", \"Astra\", \"Corsa\"],\n",
    "    \"cilindrada\": [1400, 1400, 1600, 1400, 1600, 1600, 2000, 2000, 2000, 1800, 1800, 1800, 1600, 1800, 1800],\n",
    "    \"kms\": [59979, 29707, 84461, 98292, 93720, 90083, 57076, 42932, 70544, 52457, 75277, 63751, 24698, 47881, 77320],\n",
    "    \"precio\": [7728, 16691, 6638, 11695, 10642, 14982, 14271, 18689, 7874, 8003, 7230, 17087, 11870, 6114, 6239],\n",
    "    \"año\": [2021, 2011, 2010, 2018, 2022, 2021, 2014, 2014, 2013, 2013, 2022, 2018, 2022, 2013, 2022]\n",
    "}"
   ]
  },
  {
   "cell_type": "code",
   "execution_count": 8,
   "metadata": {},
   "outputs": [],
   "source": [
    "df = pd.DataFrame(data)\n",
    "csv_path = os.path.join(FOLDER, \"vehiculos.csv\")\n",
    "df.to_csv(csv_path, index=False) # Guardar el archivo CSV"
   ]
  },
  {
   "cell_type": "markdown",
   "metadata": {},
   "source": [
    "## 2. Leer el archivo CSV y obtener información"
   ]
  },
  {
   "cell_type": "code",
   "execution_count": 9,
   "metadata": {},
   "outputs": [],
   "source": [
    "df = pd.read_csv(csv_path)\n",
    "num_elements = df.shape[0] * df.shape[1]  # Número total de elementos\n",
    "num_columns = df.shape[1]  # Número de columnas\n",
    "nombre_columns = df.columns.tolist()  # Nombre de las columnas"
   ]
  },
  {
   "cell_type": "markdown",
   "metadata": {},
   "source": [
    "## 3. Mostrar las 5 primeras filas solo con la marca y el modelo"
   ]
  },
  {
   "cell_type": "code",
   "execution_count": 10,
   "metadata": {},
   "outputs": [
    {
     "name": "stdout",
     "output_type": "stream",
     "text": [
      "  marca modelo\n",
      "0  Seat  Ibiza\n",
      "1  Seat  Ibiza\n",
      "2    VW   Polo\n",
      "3  Opel  Corsa\n",
      "4    VW   Golf\n",
      "  marca modelo\n",
      "0  Seat  Ibiza\n",
      "1  Seat  Ibiza\n",
      "2    VW   Polo\n",
      "3  Opel  Corsa\n",
      "4    VW   Golf\n"
     ]
    }
   ],
   "source": [
    "rows = df.loc[:4, [\"marca\", \"modelo\"]]\n",
    "print(rows) # Mostrar las 5 primeras filas solo con la marca y el modelo\n",
    "\n",
    "# -- (se puede hacer con el método \"head\" tambien)\n",
    "rows = df[[\"marca\", \"modelo\"]]\n",
    "print(rows.head(5))"
   ]
  },
  {
   "cell_type": "markdown",
   "metadata": {},
   "source": [
    "## 4. Obtener cuántas marcas diferentes hay y cuáles son"
   ]
  },
  {
   "cell_type": "code",
   "execution_count": 11,
   "metadata": {},
   "outputs": [
    {
     "name": "stdout",
     "output_type": "stream",
     "text": [
      "['Seat' 'VW' 'Opel']\n",
      "3\n"
     ]
    }
   ],
   "source": [
    "unique_brands = df[\"marca\"].unique()\n",
    "num_brands = len(unique_brands)\n",
    "\n",
    "print(unique_brands) # Marcas diferentes\n",
    "print(num_brands) # Número de marcas diferentes"
   ]
  },
  {
   "cell_type": "markdown",
   "metadata": {},
   "source": [
    "## 5. Mostrar solo las filas de la marca Opel"
   ]
  },
  {
   "cell_type": "code",
   "execution_count": 12,
   "metadata": {},
   "outputs": [
    {
     "name": "stdout",
     "output_type": "stream",
     "text": [
      "   marca modelo  cilindrada    kms  precio   año\n",
      "3   Opel  Corsa        1400  98292   11695  2018\n",
      "7   Opel  Corsa        2000  42932   18689  2014\n",
      "10  Opel  Corsa        1800  75277    7230  2022\n",
      "11  Opel  Corsa        1800  63751   17087  2018\n",
      "13  Opel  Astra        1800  47881    6114  2013\n",
      "14  Opel  Corsa        1800  77320    6239  2022\n"
     ]
    }
   ],
   "source": [
    "df_opel = df[df[\"marca\"] == \"Opel\"]\n",
    "print(df_opel) # Filas de la marca Opel"
   ]
  },
  {
   "cell_type": "markdown",
   "metadata": {},
   "source": [
    "## 6. Calcular los kms promedio de cada marca"
   ]
  },
  {
   "cell_type": "code",
   "execution_count": 13,
   "metadata": {},
   "outputs": [
    {
     "name": "stdout",
     "output_type": "stream",
     "text": [
      "{'Seat': np.float64(54578.0), 'VW': np.float64(78419.0), 'Opel': np.float64(67575.5)}\n"
     ]
    }
   ],
   "source": [
    "brands = df[\"marca\"].unique()\n",
    "average_kms_per_brand = {brand: np.mean(df[df[\"marca\"] == brand][\"kms\"]) for brand in brands}\n",
    "\n",
    "print(average_kms_per_brand)"
   ]
  },
  {
   "cell_type": "markdown",
   "metadata": {},
   "source": [
    "El objetivo del ejercicio 6 es calcular el kilometraje promedio de los coches para cada marca en el conjunto de datos. Para ello, en la primera solución usamos un diccionario pero se puede usar tambien el método groupby() de Pandas, que nos permite agrupar los datos por la columna de la marca y luego aplicar la función mean() sobre la columna de kilómetros."
   ]
  },
  {
   "cell_type": "code",
   "execution_count": 14,
   "metadata": {},
   "outputs": [],
   "source": [
    "df_group_by_marca = df.groupby(\"marca\")"
   ]
  },
  {
   "cell_type": "code",
   "execution_count": 15,
   "metadata": {},
   "outputs": [
    {
     "name": "stdout",
     "output_type": "stream",
     "text": [
      "marca\n",
      "Opel    67575.5\n",
      "Seat    54578.0\n",
      "VW      78419.0\n",
      "Name: kms, dtype: float64\n"
     ]
    }
   ],
   "source": [
    "kms_average_by_brand = df_group_by_marca[\"kms\"].mean()\n",
    "print(kms_average_by_brand) # Kms promedio por marca"
   ]
  },
  {
   "cell_type": "markdown",
   "metadata": {},
   "source": [
    "Explicación paso por paso\n",
    "\n",
    "1. groupby(\"marca\") agrupa el conjunto de datos en tres categorías según las marcas encontradas en la columna \"marca\".\n",
    "Internamente, Pandas crea subconjuntos de datos, agrupando todas las filas que corresponden a una misma marca.\n",
    "Selección de la columna \"kms\" ([\"kms\"])\n",
    "\n",
    "2. Después de agrupar los datos por marca, seleccionamos la columna \"kms\", ya que queremos calcular el promedio de los kilómetros recorridos.Cálculo del promedio (mean())\n",
    "\n",
    "3. Aplicamos la función mean() sobre la columna \"kms\", lo que significa que Pandas calculará el promedio de los valores de kilometraje dentro de cada grupo (marca)."
   ]
  },
  {
   "cell_type": "markdown",
   "metadata": {},
   "source": [
    "## 7. Sumar 1000 euros a los vehículos de año posterior a 2015"
   ]
  },
  {
   "cell_type": "code",
   "execution_count": 16,
   "metadata": {},
   "outputs": [
    {
     "name": "stdout",
     "output_type": "stream",
     "text": [
      "   marca modelo  cilindrada    kms  precio   año\n",
      "0   Seat  Ibiza        1400  59979    7728  2021\n",
      "1   Seat  Ibiza        1400  29707   16691  2011\n",
      "2     VW   Polo        1600  84461    6638  2010\n",
      "3   Opel  Corsa        1400  98292   11695  2018\n",
      "4     VW   Golf        1600  93720   10642  2022\n",
      "5   Seat  Arona        1600  90083   14982  2021\n",
      "6     VW   Polo        2000  57076   14271  2014\n",
      "7   Opel  Corsa        2000  42932   18689  2014\n",
      "8   Seat   Leon        2000  70544    7874  2013\n",
      "9   Seat  Arona        1800  52457    8003  2013\n",
      "10  Opel  Corsa        1800  75277    7230  2022\n",
      "11  Opel  Corsa        1800  63751   17087  2018\n",
      "12  Seat  Ibiza        1600  24698   11870  2022\n",
      "13  Opel  Astra        1800  47881    6114  2013\n",
      "14  Opel  Corsa        1800  77320    6239  2022\n"
     ]
    }
   ],
   "source": [
    "df_copy = df.copy() # Copiar el dataframe para no modificar el original\n",
    "\n",
    "print(df_copy) # Mostrar el dataframe original"
   ]
  },
  {
   "cell_type": "code",
   "execution_count": 17,
   "metadata": {},
   "outputs": [
    {
     "name": "stdout",
     "output_type": "stream",
     "text": [
      "   marca modelo  cilindrada    kms  precio   año\n",
      "0   Seat  Ibiza        1400  59979    8728  2021\n",
      "1   Seat  Ibiza        1400  29707   16691  2011\n",
      "2     VW   Polo        1600  84461    6638  2010\n",
      "3   Opel  Corsa        1400  98292   12695  2018\n",
      "4     VW   Golf        1600  93720   11642  2022\n",
      "5   Seat  Arona        1600  90083   15982  2021\n",
      "6     VW   Polo        2000  57076   14271  2014\n",
      "7   Opel  Corsa        2000  42932   18689  2014\n",
      "8   Seat   Leon        2000  70544    7874  2013\n",
      "9   Seat  Arona        1800  52457    8003  2013\n",
      "10  Opel  Corsa        1800  75277    8230  2022\n",
      "11  Opel  Corsa        1800  63751   18087  2018\n",
      "12  Seat  Ibiza        1600  24698   12870  2022\n",
      "13  Opel  Astra        1800  47881    6114  2013\n",
      "14  Opel  Corsa        1800  77320    7239  2022\n"
     ]
    }
   ],
   "source": [
    "df_copy.loc[df[\"año\"] > 2015, \"precio\"] += 1000 # Aumentar 1000 al precio de los coches con año mayor a 2015\n",
    "\n",
    "print(df_copy) # Mostrar los resultados"
   ]
  },
  {
   "cell_type": "markdown",
   "metadata": {},
   "source": [
    "<!-- # 3. Mostrar las 5 primeras filas solo con la marca y el modelo -->"
   ]
  },
  {
   "cell_type": "markdown",
   "metadata": {},
   "source": [
    "# Numpy"
   ]
  },
  {
   "cell_type": "markdown",
   "metadata": {},
   "source": [
    "## 1. Crear un vector de tamaño 10 de ceros excepto el quinto elemento que será 1\n"
   ]
  },
  {
   "cell_type": "code",
   "execution_count": 18,
   "metadata": {},
   "outputs": [
    {
     "name": "stdout",
     "output_type": "stream",
     "text": [
      "[0. 0. 0. 0. 1. 0. 0. 0. 0. 0.]\n"
     ]
    }
   ],
   "source": [
    "vector_zeros = np.zeros(10)\n",
    "vector_zeros[4] = 1\n",
    "print(vector_zeros)"
   ]
  },
  {
   "cell_type": "markdown",
   "metadata": {},
   "source": [
    "Explicación:\n",
    "* np.zeros(10) → Crea un vector de tamaño 10 con todos los valores en 0.\n",
    "* vector_zeros[4] = 1 → Cambia el quinto elemento (índice 4) a 1."
   ]
  },
  {
   "cell_type": "markdown",
   "metadata": {},
   "source": [
    "## 2. Crear un vector con valores entre 10 y 49\n"
   ]
  },
  {
   "cell_type": "code",
   "execution_count": 19,
   "metadata": {},
   "outputs": [
    {
     "name": "stdout",
     "output_type": "stream",
     "text": [
      "[10 11 12 13 14 15 16 17 18 19 20 21 22 23 24 25 26 27 28 29 30 31 32 33\n",
      " 34 35 36 37 38 39 40 41 42 43 44 45 46 47 48 49]\n"
     ]
    }
   ],
   "source": [
    "vector_range = np.arange(10, 50)\n",
    "print(vector_range)"
   ]
  },
  {
   "cell_type": "markdown",
   "metadata": {},
   "source": [
    "Explicación:\n",
    "* np.arange(10, 50) → Genera un vector con valores desde 10 hasta 49 (el último valor no se incluye)"
   ]
  },
  {
   "cell_type": "markdown",
   "metadata": {},
   "source": [
    "## 3. Crear una matriz de 3x3 con valores entre 0 y 8"
   ]
  },
  {
   "cell_type": "code",
   "execution_count": 20,
   "metadata": {},
   "outputs": [
    {
     "name": "stdout",
     "output_type": "stream",
     "text": [
      "[[1 7 0]\n",
      " [1 5 6]\n",
      " [8 1 1]]\n"
     ]
    }
   ],
   "source": [
    "matrix_3x3 = np.random.randint(0, 9, (3, 3))\n",
    "print(matrix_3x3)"
   ]
  },
  {
   "cell_type": "markdown",
   "metadata": {},
   "source": [
    "## 4. Crear una matriz identidad de dimensiones 4x4\n"
   ]
  },
  {
   "cell_type": "code",
   "execution_count": 21,
   "metadata": {},
   "outputs": [
    {
     "name": "stdout",
     "output_type": "stream",
     "text": [
      "[[1. 0. 0. 0.]\n",
      " [0. 1. 0. 0.]\n",
      " [0. 0. 1. 0.]\n",
      " [0. 0. 0. 1.]]\n"
     ]
    }
   ],
   "source": [
    "identity_matrix_4x4 = np.eye(4)\n",
    "print(identity_matrix_4x4)"
   ]
  },
  {
   "cell_type": "markdown",
   "metadata": {},
   "source": [
    "Explicación:\n",
    "* np.eye(4) → Genera una matriz identidad de 4x4.\n",
    "* En una matriz identidad, la diagonal principal tiene valores 1 y el resto son 0."
   ]
  },
  {
   "cell_type": "markdown",
   "metadata": {},
   "source": [
    "## 5. Crear un array de dimensiones 3x3x3 con valores aleatorios"
   ]
  },
  {
   "cell_type": "code",
   "execution_count": 22,
   "metadata": {},
   "outputs": [
    {
     "name": "stdout",
     "output_type": "stream",
     "text": [
      "(3, 3, 3)\n"
     ]
    }
   ],
   "source": [
    "random_array_3x3x3 = np.random.rand(3, 3, 3)\n",
    "print(random_array_3x3x3.shape)"
   ]
  },
  {
   "cell_type": "markdown",
   "metadata": {},
   "source": [
    "## 6. Crear una matriz de 5x5 con 1 en los bordes y 0 en el interior"
   ]
  },
  {
   "cell_type": "code",
   "execution_count": 23,
   "metadata": {},
   "outputs": [
    {
     "name": "stdout",
     "output_type": "stream",
     "text": [
      "[[1. 1. 1. 1. 1.]\n",
      " [1. 0. 0. 0. 1.]\n",
      " [1. 0. 0. 0. 1.]\n",
      " [1. 0. 0. 0. 1.]\n",
      " [1. 1. 1. 1. 1.]]\n"
     ]
    }
   ],
   "source": [
    "border_matrix_5x5 = np.ones((5, 5))\n",
    "border_matrix_5x5[1:-1, 1:-1] = 0\n",
    "print(border_matrix_5x5)"
   ]
  },
  {
   "cell_type": "markdown",
   "metadata": {},
   "source": [
    "Explicación:\n",
    "* np.ones((5, 5)) → Crea una matriz de 5x5 con valores 1 en todas las posiciones.\n",
    "* border_matrix_5x5[1:-1, 1:-1] = 0 → Cambia los valores internos a 0, dejando los bordes en 1."
   ]
  },
  {
   "cell_type": "markdown",
   "metadata": {},
   "source": [
    "## 7. Crear un vector de tamaño 10 con valores aleatorios y modificar el valor máximo por 0"
   ]
  },
  {
   "cell_type": "code",
   "execution_count": 24,
   "metadata": {},
   "outputs": [
    {
     "name": "stdout",
     "output_type": "stream",
     "text": [
      "[0.014766   0.1875259  0.05404396 0.51437718 0.29871338 0.17025954\n",
      " 0.47491924 0.4363661  0.         0.32677088]\n"
     ]
    }
   ],
   "source": [
    "random_vector_10 = np.random.rand(10)\n",
    "random_vector_10[np.argmax(random_vector_10)] = 0 # Cambiar el valor máximo por 0\n",
    "print(random_vector_10)"
   ]
  },
  {
   "cell_type": "markdown",
   "metadata": {},
   "source": [
    "Explicación:\n",
    "* np.random.rand(10) → Genera un vector de tamaño 10 con valores aleatorios entre 0 y 1.\n",
    "* np.argmax(random_vector_10) → Encuentra el índice del valor máximo.\n",
    "* random_vector_10[np.argmax(random_vector_10)] = 0 → Cambia el valor máximo a 0.\n"
   ]
  },
  {
   "cell_type": "markdown",
   "metadata": {},
   "source": [
    "## 8. Encontrar el valor más próximo a un escalar dado en un vector"
   ]
  },
  {
   "cell_type": "code",
   "execution_count": 25,
   "metadata": {},
   "outputs": [
    {
     "name": "stdout",
     "output_type": "stream",
     "text": [
      "Vector: [ 2 37 41 47 44 13 14  8 15 35]\n",
      "Valor más cercano a 25: 15\n"
     ]
    }
   ],
   "source": [
    "scalar = 25  # Escalar dado\n",
    "vector_example = np.random.randint(0, 50, 10)  # Vector con valores aleatorios entre 0 y 50\n",
    "closest_value = vector_example[np.abs(vector_example - scalar).argmin()]\n",
    "\n",
    "print(f\"Vector: {vector_example}\")\n",
    "print(f\"Valor más cercano a {scalar}: {closest_value}\")\n"
   ]
  },
  {
   "cell_type": "markdown",
   "metadata": {},
   "source": [
    "Explicación:\n",
    "* np.random.randint(0, 50, 10) → Genera un vector de 10 valores enteros aleatorios entre 0 y 50.\n",
    "* np.abs(vector_example - scalar) → Calcula la diferencia absoluta entre cada valor del vector y el escalar dado.\n",
    "* .argmin() → Encuentra el índice del valor más cercano.\n",
    "* vector_example[...] → Recupera el valor más cercano"
   ]
  },
  {
   "cell_type": "markdown",
   "metadata": {},
   "source": [
    "# Matplotlib"
   ]
  },
  {
   "cell_type": "markdown",
   "metadata": {},
   "source": [
    "## 1 Dibujar la función f(x) = 1 / (x² + 1) en el intervalo [-10,10]"
   ]
  },
  {
   "cell_type": "code",
   "execution_count": 26,
   "metadata": {},
   "outputs": [
    {
     "data": {
      "image/png": "[encoded data removed]",
      "text/plain": [
       "<Figure size 800x500 with 1 Axes>"
      ]
     },
     "metadata": {},
     "output_type": "display_data"
    }
   ],
   "source": [
    "# 1. Generar los valores de x en el intervalo [-10, 10]\n",
    "x = np.linspace(-10, 10, 400)  # 400 puntos equidistantes\n",
    "\n",
    "# 2. Calcular los valores de f(x)\n",
    "f_x1 = 1 / (x**2 + 1)\n",
    "\n",
    "# 3. Dibujar la gráfica\n",
    "plt.figure(figsize=(8, 5))\n",
    "plt.plot(x, f_x1, color='blue')\n",
    "plt.show()"
   ]
  },
  {
   "cell_type": "markdown",
   "metadata": {},
   "source": [
    "### 2. Añadir una rejilla a la gráfica anterior y poner nombre a los ejes"
   ]
  },
  {
   "cell_type": "code",
   "execution_count": 27,
   "metadata": {},
   "outputs": [
    {
     "data": {
      "image/png": "[encoded data removed]",
      "text/plain": [
       "<Figure size 800x500 with 1 Axes>"
      ]
     },
     "metadata": {},
     "output_type": "display_data"
    }
   ],
   "source": [
    "\n",
    "plt.figure(figsize=(8, 5))\n",
    "plt.plot(x, f_x1, label='f(x)', color='blue') # label es la etiqueta de la función\n",
    "plt.grid(True)  # Activar rejilla\n",
    "plt.xlabel(\"x\")  # Etiqueta del eje x\n",
    "plt.ylabel(\"f(x)\")  # Etiqueta del eje y\n",
    "# Extras para dejar las cosas bonitas\n",
    "plt.title(\"Gráfica con rejilla y ejes etiquetados\") # Título de la gráfica\n",
    "plt.legend() # Mostrar la leyenda. aka la etiqueta de la función\n",
    "plt.show()"
   ]
  },
  {
   "cell_type": "markdown",
   "metadata": {},
   "source": [
    "## 3 Dibujar también la función f(x) = 1 / (e^(-x) + 1) en color rojo"
   ]
  },
  {
   "cell_type": "code",
   "execution_count": 28,
   "metadata": {},
   "outputs": [
    {
     "data": {
      "image/png": "[encoded data removed]",
      "text/plain": [
       "<Figure size 800x500 with 1 Axes>"
      ]
     },
     "metadata": {},
     "output_type": "display_data"
    }
   ],
   "source": [
    "# 1. Calcular la segunda función f(x) = 1 / (e^(-x) + 1)\n",
    "f_x2 = 1 / (np.exp(-x) + 1) \n",
    "# a esta funcion se le llama sigmoide, spoiler: es la función de activación de la regresión logística, ya lo veremos en el futuro...\n",
    "\n",
    "# 2. Dibujar ambas funciones en la misma gráfica\n",
    "plt.figure(figsize=(8, 5)) # Tamaño de la gráfica\n",
    "plt.plot(x, f_x1, label='f_1(x)', color='blue')\n",
    "plt.plot(x, f_x2, label='f_2(x)', color='red') # Dibujar la segunda función\n",
    "plt.grid(True)\n",
    "plt.xlabel(\"x\")\n",
    "plt.ylabel(\"f(x)\")\n",
    "plt.title(\"Dos funciones en la misma gráfica\")\n",
    "plt.legend()\n",
    "plt.show()"
   ]
  },
  {
   "cell_type": "markdown",
   "metadata": {},
   "source": [
    "## 4. Dibujar un diagrama de dispersión de kms vs precio de vehículos"
   ]
  },
  {
   "cell_type": "code",
   "execution_count": 29,
   "metadata": {},
   "outputs": [
    {
     "data": {
      "text/html": [
       "<div>\n",
       "<style scoped>\n",
       "    .dataframe tbody tr th:only-of-type {\n",
       "        vertical-align: middle;\n",
       "    }\n",
       "\n",
       "    .dataframe tbody tr th {\n",
       "        vertical-align: top;\n",
       "    }\n",
       "\n",
       "    .dataframe thead th {\n",
       "        text-align: right;\n",
       "    }\n",
       "</style>\n",
       "<table border=\"1\" class=\"dataframe\">\n",
       "  <thead>\n",
       "    <tr style=\"text-align: right;\">\n",
       "      <th></th>\n",
       "      <th>marca</th>\n",
       "      <th>modelo</th>\n",
       "      <th>cilindrada</th>\n",
       "      <th>kms</th>\n",
       "      <th>precio</th>\n",
       "      <th>año</th>\n",
       "    </tr>\n",
       "  </thead>\n",
       "  <tbody>\n",
       "    <tr>\n",
       "      <th>0</th>\n",
       "      <td>Seat</td>\n",
       "      <td>Ibiza</td>\n",
       "      <td>1400</td>\n",
       "      <td>59979</td>\n",
       "      <td>7728</td>\n",
       "      <td>2021</td>\n",
       "    </tr>\n",
       "    <tr>\n",
       "      <th>1</th>\n",
       "      <td>Seat</td>\n",
       "      <td>Ibiza</td>\n",
       "      <td>1400</td>\n",
       "      <td>29707</td>\n",
       "      <td>16691</td>\n",
       "      <td>2011</td>\n",
       "    </tr>\n",
       "    <tr>\n",
       "      <th>2</th>\n",
       "      <td>VW</td>\n",
       "      <td>Polo</td>\n",
       "      <td>1600</td>\n",
       "      <td>84461</td>\n",
       "      <td>6638</td>\n",
       "      <td>2010</td>\n",
       "    </tr>\n",
       "    <tr>\n",
       "      <th>3</th>\n",
       "      <td>Opel</td>\n",
       "      <td>Corsa</td>\n",
       "      <td>1400</td>\n",
       "      <td>98292</td>\n",
       "      <td>11695</td>\n",
       "      <td>2018</td>\n",
       "    </tr>\n",
       "    <tr>\n",
       "      <th>4</th>\n",
       "      <td>VW</td>\n",
       "      <td>Golf</td>\n",
       "      <td>1600</td>\n",
       "      <td>93720</td>\n",
       "      <td>10642</td>\n",
       "      <td>2022</td>\n",
       "    </tr>\n",
       "    <tr>\n",
       "      <th>5</th>\n",
       "      <td>Seat</td>\n",
       "      <td>Arona</td>\n",
       "      <td>1600</td>\n",
       "      <td>90083</td>\n",
       "      <td>14982</td>\n",
       "      <td>2021</td>\n",
       "    </tr>\n",
       "    <tr>\n",
       "      <th>6</th>\n",
       "      <td>VW</td>\n",
       "      <td>Polo</td>\n",
       "      <td>2000</td>\n",
       "      <td>57076</td>\n",
       "      <td>14271</td>\n",
       "      <td>2014</td>\n",
       "    </tr>\n",
       "    <tr>\n",
       "      <th>7</th>\n",
       "      <td>Opel</td>\n",
       "      <td>Corsa</td>\n",
       "      <td>2000</td>\n",
       "      <td>42932</td>\n",
       "      <td>18689</td>\n",
       "      <td>2014</td>\n",
       "    </tr>\n",
       "    <tr>\n",
       "      <th>8</th>\n",
       "      <td>Seat</td>\n",
       "      <td>Leon</td>\n",
       "      <td>2000</td>\n",
       "      <td>70544</td>\n",
       "      <td>7874</td>\n",
       "      <td>2013</td>\n",
       "    </tr>\n",
       "    <tr>\n",
       "      <th>9</th>\n",
       "      <td>Seat</td>\n",
       "      <td>Arona</td>\n",
       "      <td>1800</td>\n",
       "      <td>52457</td>\n",
       "      <td>8003</td>\n",
       "      <td>2013</td>\n",
       "    </tr>\n",
       "    <tr>\n",
       "      <th>10</th>\n",
       "      <td>Opel</td>\n",
       "      <td>Corsa</td>\n",
       "      <td>1800</td>\n",
       "      <td>75277</td>\n",
       "      <td>7230</td>\n",
       "      <td>2022</td>\n",
       "    </tr>\n",
       "    <tr>\n",
       "      <th>11</th>\n",
       "      <td>Opel</td>\n",
       "      <td>Corsa</td>\n",
       "      <td>1800</td>\n",
       "      <td>63751</td>\n",
       "      <td>17087</td>\n",
       "      <td>2018</td>\n",
       "    </tr>\n",
       "    <tr>\n",
       "      <th>12</th>\n",
       "      <td>Seat</td>\n",
       "      <td>Ibiza</td>\n",
       "      <td>1600</td>\n",
       "      <td>24698</td>\n",
       "      <td>11870</td>\n",
       "      <td>2022</td>\n",
       "    </tr>\n",
       "    <tr>\n",
       "      <th>13</th>\n",
       "      <td>Opel</td>\n",
       "      <td>Astra</td>\n",
       "      <td>1800</td>\n",
       "      <td>47881</td>\n",
       "      <td>6114</td>\n",
       "      <td>2013</td>\n",
       "    </tr>\n",
       "    <tr>\n",
       "      <th>14</th>\n",
       "      <td>Opel</td>\n",
       "      <td>Corsa</td>\n",
       "      <td>1800</td>\n",
       "      <td>77320</td>\n",
       "      <td>6239</td>\n",
       "      <td>2022</td>\n",
       "    </tr>\n",
       "  </tbody>\n",
       "</table>\n",
       "</div>"
      ],
      "text/plain": [
       "   marca modelo  cilindrada    kms  precio   año\n",
       "0   Seat  Ibiza        1400  59979    7728  2021\n",
       "1   Seat  Ibiza        1400  29707   16691  2011\n",
       "2     VW   Polo        1600  84461    6638  2010\n",
       "3   Opel  Corsa        1400  98292   11695  2018\n",
       "4     VW   Golf        1600  93720   10642  2022\n",
       "5   Seat  Arona        1600  90083   14982  2021\n",
       "6     VW   Polo        2000  57076   14271  2014\n",
       "7   Opel  Corsa        2000  42932   18689  2014\n",
       "8   Seat   Leon        2000  70544    7874  2013\n",
       "9   Seat  Arona        1800  52457    8003  2013\n",
       "10  Opel  Corsa        1800  75277    7230  2022\n",
       "11  Opel  Corsa        1800  63751   17087  2018\n",
       "12  Seat  Ibiza        1600  24698   11870  2022\n",
       "13  Opel  Astra        1800  47881    6114  2013\n",
       "14  Opel  Corsa        1800  77320    6239  2022"
      ]
     },
     "execution_count": 29,
     "metadata": {},
     "output_type": "execute_result"
    }
   ],
   "source": [
    "cars_df = pd.read_csv(csv_path)\n",
    "cars_df "
   ]
  },
  {
   "cell_type": "code",
   "execution_count": 30,
   "metadata": {},
   "outputs": [
    {
     "data": {
      "image/png": "[encoded data removed]",
      "text/plain": [
       "<Figure size 800x500 with 1 Axes>"
      ]
     },
     "metadata": {},
     "output_type": "display_data"
    }
   ],
   "source": [
    "# Dibujar scatter plot (kms en x, precio en y)\n",
    "plt.figure(figsize=(8, 5))\n",
    "plt.scatter(cars_df[\"kms\"], cars_df[\"precio\"], color=\"black\")\n",
    "plt.xlabel(\"Kilómetros recorridos\")\n",
    "plt.ylabel(\"Precio del vehículo (€)\")\n",
    "plt.title(\"Diagrama de dispersión: Kilómetros vs Precio\")\n",
    "plt.grid(True)\n",
    "plt.show()"
   ]
  },
  {
   "cell_type": "markdown",
   "metadata": {},
   "source": [
    "## 5. Dibujar un diagrama de barras con el número de vehículos de cada marca"
   ]
  },
  {
   "cell_type": "code",
   "execution_count": 31,
   "metadata": {},
   "outputs": [
    {
     "data": {
      "image/png": "[encoded data removed]",
      "text/plain": [
       "<Figure size 800x500 with 1 Axes>"
      ]
     },
     "metadata": {},
     "output_type": "display_data"
    }
   ],
   "source": [
    "# Contar el número de vehículos por marca\n",
    "vehicle_counts = cars_df[\"marca\"].value_counts()\n",
    "\n",
    "# Dibujar el gráfico de barras\n",
    "plt.figure(figsize=(8, 5))\n",
    "plt.bar(vehicle_counts.index, vehicle_counts.values, color=\"green\")  # Barras en color verde\n",
    "plt.xlabel(\"Marca del vehículo\")\n",
    "plt.ylabel(\"Cantidad de vehículos\")\n",
    "plt.title(\"Cantidad de vehículos por marca\")\n",
    "plt.show()"
   ]
  },
  {
   "cell_type": "markdown",
   "metadata": {},
   "source": [
    "* Contar la cantidad de coches por marca\n",
    "* df_vehicles[\"marca\"].value_counts(): Cuenta cuántos coches hay de cada marca.\n",
    "* Dibujar el diagrama de barras: plt.bar(vehicle_counts.index, vehicle_counts.values, color=\"green\"):\n",
    "* Se asigna el color verde a las barras.\n",
    "* Etiquetar los ejes\n",
    "* Se añade el título y las etiquetas de ejes."
   ]
  }
 ],
 "metadata": {
  "kernelspec": {
   "display_name": "aa1",
   "language": "python",
   "name": "python3"
  },
  "language_info": {
   "codemirror_mode": {
    "name": "ipython",
    "version": 3
   },
   "file_extension": ".py",
   "mimetype": "text/x-python",
   "name": "python",
   "nbconvert_exporter": "python",
   "pygments_lexer": "ipython3",
   "version": "3.10.16"
  }
 },
 "nbformat": 4,
 "nbformat_minor": 2
}
