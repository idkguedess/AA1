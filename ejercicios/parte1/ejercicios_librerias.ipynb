{
 "cells": [
  {
   "cell_type": "code",
   "execution_count": 22,
   "metadata": {},
   "outputs": [],
   "source": [
    "import pandas as pd\n",
    "import numpy as np\n",
    "import matplotlib.pyplot as plt\n",
    "\n",
    "# crear un folder para guardar los datos\n",
    "import os\n",
    "FOLDER = \"data\"\n",
    "if not os.path.exists(FOLDER):\n",
    "    os.mkdir(FOLDER)"
   ]
  },
  {
   "cell_type": "markdown",
   "metadata": {},
   "source": [
    "# Pandas"
   ]
  },
  {
   "cell_type": "markdown",
   "metadata": {},
   "source": [
    "## 1. Crear un archivo csv con el siguiente contenido."
   ]
  },
  {
   "cell_type": "code",
   "execution_count": 23,
   "metadata": {},
   "outputs": [],
   "source": [
    "data = {\n",
    "    \"marca\": [\"Seat\", \"Seat\", \"VW\", \"Opel\", \"VW\", \"Seat\", \"VW\", \"Opel\", \"Seat\", \"Seat\", \"Opel\", \"Opel\", \"Seat\", \"Opel\", \"Opel\"],\n",
    "    \"modelo\": [\"Ibiza\", \"Ibiza\", \"Polo\", \"Corsa\", \"Golf\", \"Arona\", \"Polo\", \"Corsa\", \"Leon\", \"Arona\", \"Corsa\", \"Corsa\", \"Ibiza\", \"Astra\", \"Corsa\"],\n",
    "    \"cilindrada\": [1400, 1400, 1600, 1400, 1600, 1600, 2000, 2000, 2000, 1800, 1800, 1800, 1600, 1800, 1800],\n",
    "    \"kms\": [59979, 29707, 84461, 98292, 93720, 90083, 57076, 42932, 70544, 52457, 75277, 63751, 24698, 47881, 77320],\n",
    "    \"precio\": [7728, 16691, 6638, 11695, 10642, 14982, 14271, 18689, 7874, 8003, 7230, 17087, 11870, 6114, 6239],\n",
    "    \"año\": [2021, 2011, 2010, 2018, 2022, 2021, 2014, 2014, 2013, 2013, 2022, 2018, 2022, 2013, 2022]\n",
    "}"
   ]
  },
  {
   "cell_type": "code",
   "execution_count": 24,
   "metadata": {},
   "outputs": [],
   "source": [
    "df = pd.DataFrame(data)\n",
    "csv_path = os.path.join(FOLDER, \"vehiculos.csv\")\n",
    "df.to_csv(csv_path, index=False) # Guardar el archivo CSV"
   ]
  },
  {
   "cell_type": "markdown",
   "metadata": {},
   "source": [
    "## 2. Leer el archivo CSV y obtener información"
   ]
  },
  {
   "cell_type": "code",
   "execution_count": 25,
   "metadata": {},
   "outputs": [],
   "source": [
    "df = pd.read_csv(csv_path)\n",
    "num_elements = df.shape[0] * df.shape[1]  # Número total de elementos\n",
    "num_columns = df.shape[1]  # Número de columnas\n",
    "nombre_columns = df.columns.tolist()  # Nombre de las columnas"
   ]
  },
  {
   "cell_type": "markdown",
   "metadata": {},
   "source": [
    "## 3. Mostrar las 5 primeras filas solo con la marca y el modelo"
   ]
  },
  {
   "cell_type": "code",
   "execution_count": 26,
   "metadata": {},
   "outputs": [
    {
     "name": "stdout",
     "output_type": "stream",
     "text": [
      "  marca modelo\n",
      "0  Seat  Ibiza\n",
      "1  Seat  Ibiza\n",
      "2    VW   Polo\n",
      "3  Opel  Corsa\n",
      "4    VW   Golf\n",
      "  marca modelo\n",
      "0  Seat  Ibiza\n",
      "1  Seat  Ibiza\n",
      "2    VW   Polo\n",
      "3  Opel  Corsa\n",
      "4    VW   Golf\n"
     ]
    }
   ],
   "source": [
    "rows = df.loc[:4, [\"marca\", \"modelo\"]]\n",
    "print(rows) # Mostrar las 5 primeras filas solo con la marca y el modelo\n",
    "\n",
    "# -- (se puede hacer con el método \"head\" tambien)\n",
    "rows = df[[\"marca\", \"modelo\"]]\n",
    "print(rows.head(5))"
   ]
  },
  {
   "cell_type": "markdown",
   "metadata": {},
   "source": [
    "## 4. Obtener cuántas marcas diferentes hay y cuáles son"
   ]
  },
  {
   "cell_type": "code",
   "execution_count": 27,
   "metadata": {},
   "outputs": [
    {
     "name": "stdout",
     "output_type": "stream",
     "text": [
      "['Seat' 'VW' 'Opel']\n",
      "3\n"
     ]
    }
   ],
   "source": [
    "unique_brands = df[\"marca\"].unique()\n",
    "num_brands = len(unique_brands)\n",
    "\n",
    "print(unique_brands) # Marcas diferentes\n",
    "print(num_brands) # Número de marcas diferentes"
   ]
  },
  {
   "cell_type": "markdown",
   "metadata": {},
   "source": [
    "## 5. Mostrar solo las filas de la marca Opel"
   ]
  },
  {
   "cell_type": "code",
   "execution_count": 28,
   "metadata": {},
   "outputs": [
    {
     "name": "stdout",
     "output_type": "stream",
     "text": [
      "   marca modelo  cilindrada    kms  precio   año\n",
      "3   Opel  Corsa        1400  98292   11695  2018\n",
      "7   Opel  Corsa        2000  42932   18689  2014\n",
      "10  Opel  Corsa        1800  75277    7230  2022\n",
      "11  Opel  Corsa        1800  63751   17087  2018\n",
      "13  Opel  Astra        1800  47881    6114  2013\n",
      "14  Opel  Corsa        1800  77320    6239  2022\n"
     ]
    }
   ],
   "source": [
    "df_opel = df[df[\"marca\"] == \"Opel\"]\n",
    "print(df_opel) # Filas de la marca Opel"
   ]
  },
  {
   "cell_type": "markdown",
   "metadata": {},
   "source": [
    "## 6. Calcular los kms promedio de cada marca"
   ]
  },
  {
   "cell_type": "code",
   "execution_count": null,
   "metadata": {},
   "outputs": [
    {
     "name": "stdout",
     "output_type": "stream",
     "text": [
      "{'Seat': np.float64(54578.0), 'VW': np.float64(78419.0), 'Opel': np.float64(67575.5)}\n"
     ]
    }
   ],
   "source": [
    "brands = df[\"marca\"].unique()\n",
    "average_kms_per_brand = {brand: np.mean(df[df[\"marca\"] == brand][\"kms\"]) for brand in brands}\n",
    "\n",
    "print(average_kms_per_brand)"
   ]
  },
  {
   "cell_type": "markdown",
   "metadata": {},
   "source": [
    "El objetivo del ejercicio 6 es calcular el kilometraje promedio de los coches para cada marca en el conjunto de datos. Para ello, en la primera solución usamos un diccionario pero se puede usar tambien el método groupby() de Pandas, que nos permite agrupar los datos por la columna de la marca y luego aplicar la función mean() sobre la columna de kilómetros."
   ]
  },
  {
   "cell_type": "code",
   "execution_count": 42,
   "metadata": {},
   "outputs": [],
   "source": [
    "df_group_by_marca = df.groupby(\"marca\")"
   ]
  },
  {
   "cell_type": "code",
   "execution_count": 43,
   "metadata": {},
   "outputs": [
    {
     "name": "stdout",
     "output_type": "stream",
     "text": [
      "marca\n",
      "Opel    67575.5\n",
      "Seat    54578.0\n",
      "VW      78419.0\n",
      "Name: kms, dtype: float64\n"
     ]
    }
   ],
   "source": [
    "kms_average_by_brand = df_group_by_marca[\"kms\"].mean()\n",
    "print(kms_average_by_brand) # Kms promedio por marca"
   ]
  },
  {
   "cell_type": "markdown",
   "metadata": {},
   "source": [
    "Explicación paso por paso\n",
    "\n",
    "1. groupby(\"marca\") agrupa el conjunto de datos en tres categorías según las marcas encontradas en la columna \"marca\".\n",
    "Internamente, Pandas crea subconjuntos de datos, agrupando todas las filas que corresponden a una misma marca.\n",
    "Selección de la columna \"kms\" ([\"kms\"])\n",
    "\n",
    "2. Después de agrupar los datos por marca, seleccionamos la columna \"kms\", ya que queremos calcular el promedio de los kilómetros recorridos.Cálculo del promedio (mean())\n",
    "\n",
    "3. Aplicamos la función mean() sobre la columna \"kms\", lo que significa que Pandas calculará el promedio de los valores de kilometraje dentro de cada grupo (marca)."
   ]
  },
  {
   "cell_type": "markdown",
   "metadata": {},
   "source": [
    "## 7. Sumar 1000 euros a los vehículos de año posterior a 2015"
   ]
  },
  {
   "cell_type": "code",
   "execution_count": 31,
   "metadata": {},
   "outputs": [
    {
     "name": "stdout",
     "output_type": "stream",
     "text": [
      "   marca modelo  cilindrada    kms  precio   año\n",
      "0   Seat  Ibiza        1400  59979    7728  2021\n",
      "1   Seat  Ibiza        1400  29707   16691  2011\n",
      "2     VW   Polo        1600  84461    6638  2010\n",
      "3   Opel  Corsa        1400  98292   11695  2018\n",
      "4     VW   Golf        1600  93720   10642  2022\n",
      "5   Seat  Arona        1600  90083   14982  2021\n",
      "6     VW   Polo        2000  57076   14271  2014\n",
      "7   Opel  Corsa        2000  42932   18689  2014\n",
      "8   Seat   Leon        2000  70544    7874  2013\n",
      "9   Seat  Arona        1800  52457    8003  2013\n",
      "10  Opel  Corsa        1800  75277    7230  2022\n",
      "11  Opel  Corsa        1800  63751   17087  2018\n",
      "12  Seat  Ibiza        1600  24698   11870  2022\n",
      "13  Opel  Astra        1800  47881    6114  2013\n",
      "14  Opel  Corsa        1800  77320    6239  2022\n"
     ]
    }
   ],
   "source": [
    "df_copy = df.copy() # Copiar el dataframe para no modificar el original\n",
    "\n",
    "print(df_copy) # Mostrar el dataframe original"
   ]
  },
  {
   "cell_type": "code",
   "execution_count": null,
   "metadata": {},
   "outputs": [
    {
     "name": "stdout",
     "output_type": "stream",
     "text": [
      "   marca modelo  cilindrada    kms  precio   año\n",
      "0   Seat  Ibiza        1400  59979    8728  2021\n",
      "1   Seat  Ibiza        1400  29707   16691  2011\n",
      "2     VW   Polo        1600  84461    6638  2010\n",
      "3   Opel  Corsa        1400  98292   12695  2018\n",
      "4     VW   Golf        1600  93720   11642  2022\n",
      "5   Seat  Arona        1600  90083   15982  2021\n",
      "6     VW   Polo        2000  57076   14271  2014\n",
      "7   Opel  Corsa        2000  42932   18689  2014\n",
      "8   Seat   Leon        2000  70544    7874  2013\n",
      "9   Seat  Arona        1800  52457    8003  2013\n",
      "10  Opel  Corsa        1800  75277    8230  2022\n",
      "11  Opel  Corsa        1800  63751   18087  2018\n",
      "12  Seat  Ibiza        1600  24698   12870  2022\n",
      "13  Opel  Astra        1800  47881    6114  2013\n",
      "14  Opel  Corsa        1800  77320    7239  2022\n"
     ]
    }
   ],
   "source": [
    "df_copy.loc[df[\"año\"] > 2015, \"precio\"] += 1000 # Aumentar 1000 al precio de los coches con año mayor a 2015\n",
    "\n",
    "print(df_copy) # Mostrar los resultados"
   ]
  },
  {
   "cell_type": "markdown",
   "metadata": {},
   "source": [
    "<!-- # 3. Mostrar las 5 primeras filas solo con la marca y el modelo -->"
   ]
  }
 ],
 "metadata": {
  "kernelspec": {
   "display_name": "aa1",
   "language": "python",
   "name": "python3"
  },
  "language_info": {
   "codemirror_mode": {
    "name": "ipython",
    "version": 3
   },
   "file_extension": ".py",
   "mimetype": "text/x-python",
   "name": "python",
   "nbconvert_exporter": "python",
   "pygments_lexer": "ipython3",
   "version": "3.10.16"
  }
 },
 "nbformat": 4,
 "nbformat_minor": 2
}
