{
 "cells": [
  {
   "cell_type": "code",
   "execution_count": 7,
   "metadata": {},
   "outputs": [],
   "source": [
    "import pandas as pd\n",
    "import numpy as np\n",
    "\n",
    "df_iris = pd.read_csv(\"data/iris-perdidos.csv\")"
   ]
  },
  {
   "cell_type": "code",
   "execution_count": 8,
   "metadata": {},
   "outputs": [
    {
     "data": {
      "text/html": [
       "<div>\n",
       "<style scoped>\n",
       "    .dataframe tbody tr th:only-of-type {\n",
       "        vertical-align: middle;\n",
       "    }\n",
       "\n",
       "    .dataframe tbody tr th {\n",
       "        vertical-align: top;\n",
       "    }\n",
       "\n",
       "    .dataframe thead th {\n",
       "        text-align: right;\n",
       "    }\n",
       "</style>\n",
       "<table border=\"1\" class=\"dataframe\">\n",
       "  <thead>\n",
       "    <tr style=\"text-align: right;\">\n",
       "      <th></th>\n",
       "      <th>sepal length</th>\n",
       "      <th>sepal width</th>\n",
       "      <th>petal length</th>\n",
       "      <th>petal width</th>\n",
       "      <th>class</th>\n",
       "    </tr>\n",
       "  </thead>\n",
       "  <tbody>\n",
       "    <tr>\n",
       "      <th>0</th>\n",
       "      <td>NaN</td>\n",
       "      <td>3.5</td>\n",
       "      <td>1.4</td>\n",
       "      <td>0.2</td>\n",
       "      <td>Iris-setosa</td>\n",
       "    </tr>\n",
       "    <tr>\n",
       "      <th>1</th>\n",
       "      <td>4.9</td>\n",
       "      <td>3.0</td>\n",
       "      <td>1.4</td>\n",
       "      <td>0.2</td>\n",
       "      <td>Iris-setosa</td>\n",
       "    </tr>\n",
       "    <tr>\n",
       "      <th>2</th>\n",
       "      <td>4.7</td>\n",
       "      <td>3.2</td>\n",
       "      <td>1.3</td>\n",
       "      <td>0.2</td>\n",
       "      <td>Iris-setosa</td>\n",
       "    </tr>\n",
       "    <tr>\n",
       "      <th>3</th>\n",
       "      <td>4.6</td>\n",
       "      <td>3.1</td>\n",
       "      <td>1.5</td>\n",
       "      <td>0.2</td>\n",
       "      <td>Iris-setosa</td>\n",
       "    </tr>\n",
       "    <tr>\n",
       "      <th>4</th>\n",
       "      <td>5.0</td>\n",
       "      <td>3.6</td>\n",
       "      <td>1.4</td>\n",
       "      <td>0.2</td>\n",
       "      <td>Iris-setosa</td>\n",
       "    </tr>\n",
       "  </tbody>\n",
       "</table>\n",
       "</div>"
      ],
      "text/plain": [
       "   sepal length  sepal width  petal length  petal width        class\n",
       "0           NaN          3.5           1.4          0.2  Iris-setosa\n",
       "1           4.9          3.0           1.4          0.2  Iris-setosa\n",
       "2           4.7          3.2           1.3          0.2  Iris-setosa\n",
       "3           4.6          3.1           1.5          0.2  Iris-setosa\n",
       "4           5.0          3.6           1.4          0.2  Iris-setosa"
      ]
     },
     "execution_count": 8,
     "metadata": {},
     "output_type": "execute_result"
    }
   ],
   "source": [
    "df_iris.head()"
   ]
  },
  {
   "cell_type": "markdown",
   "metadata": {},
   "source": [
    "## 1. Sustituir valores perdidos por el promedio de cada variable\n"
   ]
  },
  {
   "cell_type": "code",
   "execution_count": 9,
   "metadata": {},
   "outputs": [
    {
     "name": "stdout",
     "output_type": "stream",
     "text": [
      "   sepal length  sepal width  petal length  petal width        class\n",
      "0      5.821986     3.500000      1.400000      0.20000  Iris-setosa\n",
      "1      4.900000     3.000000      1.400000      0.20000  Iris-setosa\n",
      "2      4.700000     3.200000      1.300000      0.20000  Iris-setosa\n",
      "3      4.600000     3.100000      1.500000      0.20000  Iris-setosa\n",
      "4      5.000000     3.600000      1.400000      0.20000  Iris-setosa\n",
      "5      5.400000     3.900000      1.700000      0.40000  Iris-setosa\n",
      "6      4.600000     3.051678      1.400000      0.30000  Iris-setosa\n",
      "7      5.000000     3.400000      1.500000      0.20000  Iris-setosa\n",
      "8      4.400000     2.900000      3.756522      1.21049  Iris-setosa\n",
      "9      5.821986     3.100000      1.500000      0.10000  Iris-setosa\n"
     ]
    }
   ],
   "source": [
    "\n",
    "cols = df_iris.columns\n",
    "\n",
    "for variable in cols[:-1]:\n",
    "\n",
    "    media = np.mean(df_iris[variable])\n",
    "    df_iris[variable] = df_iris[variable].fillna(media)\n",
    "\n",
    "print(df_iris.head(10))"
   ]
  },
  {
   "cell_type": "markdown",
   "metadata": {},
   "source": [
    "## 2. Implementar una función para escalar un array entre un mínimo y un máximo"
   ]
  },
  {
   "cell_type": "code",
   "execution_count": 10,
   "metadata": {},
   "outputs": [],
   "source": [
    "def scale_array(arr, min_val, max_val):\n",
    "    arr_min = np.min(arr)\n",
    "    arr_max = np.max(arr)\n",
    "    scaled_arr = (arr - arr_min) / (arr_max - arr_min) * (max_val - min_val) + min_val\n",
    "    return scaled_arr"
   ]
  },
  {
   "cell_type": "code",
   "execution_count": 11,
   "metadata": {},
   "outputs": [
    {
     "name": "stdout",
     "output_type": "stream",
     "text": [
      "[0.   0.25 0.5  0.75 1.  ]\n"
     ]
    }
   ],
   "source": [
    "a = np.array([1, 2, 3, 4, 5])\n",
    "print(scale_array(a, 0, 1))"
   ]
  },
  {
   "cell_type": "markdown",
   "metadata": {},
   "source": [
    "## 3. Implementar una clase para convertir valores simbólicos a numéricos y viceversa"
   ]
  },
  {
   "cell_type": "code",
   "execution_count": 12,
   "metadata": {},
   "outputs": [
    {
     "name": "stdout",
     "output_type": "stream",
     "text": [
      "Datos simbólicos: ['rojo' 'verde' 'azul' 'rojo' 'azul' 'verde' 'rojo']\n",
      "Datos numéricos: [1 2 0 1 0 2 1]\n",
      "Datos simbólicos: ['rojo' 'verde' 'azul' 'rojo' 'azul' 'verde' 'rojo']\n"
     ]
    }
   ],
   "source": [
    "class SymbolicToNumeric:\n",
    "    def __init__(self):\n",
    "        self.mapping = {}\n",
    "        self.reverse_mapping = {}\n",
    "\n",
    "    def convertir(self, array):\n",
    "        \"\"\"Convierte valores simbólicos a numéricos.\"\"\"\n",
    "        unique_values = np.unique(array)\n",
    "        for idx, val in enumerate(unique_values):\n",
    "            if val not in self.mapping:\n",
    "                self.mapping[val] = idx\n",
    "                self.reverse_mapping[idx] = val\n",
    "        \n",
    "        return np.array([self.mapping[val] for val in array])\n",
    "\n",
    "    def convertir_inversa(self, array):\n",
    "        \"\"\"Convierte valores numéricos a simbólicos.\"\"\"\n",
    "        return np.array([self.reverse_mapping[val] for val in array])\n",
    "\n",
    "# Ejemplo de uso\n",
    "data = np.array(['rojo', 'verde', 'azul', 'rojo', 'azul', 'verde', 'rojo'])\n",
    "print(\"Datos simbólicos:\", data)\n",
    "converter = SymbolicToNumeric()\n",
    "numeric_data = converter.convertir(data)\n",
    "print(\"Datos numéricos:\", numeric_data)\n",
    "\n",
    "symbolic_data = converter.convertir_inversa(numeric_data)\n",
    "print(\"Datos simbólicos:\", symbolic_data)"
   ]
  }
 ],
 "metadata": {
  "kernelspec": {
   "display_name": "aa1",
   "language": "python",
   "name": "python3"
  },
  "language_info": {
   "codemirror_mode": {
    "name": "ipython",
    "version": 3
   },
   "file_extension": ".py",
   "mimetype": "text/x-python",
   "name": "python",
   "nbconvert_exporter": "python",
   "pygments_lexer": "ipython3",
   "version": "3.10.16"
  }
 },
 "nbformat": 4,
 "nbformat_minor": 2
}
