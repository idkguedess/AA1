{
 "cells": [
  {
   "cell_type": "markdown",
   "metadata": {},
   "source": [
    "# Parcial práctico - Aprendizaje Automático I\n",
    "\n",
    "**Grado en Ciencia e Ingeniería de Datos**\n",
    "\n",
    "Notas para la realización de los ejercicios:\n",
    "\n",
    "- Cada ejercicio debe incluir los módulos necesarios para su resolución.\n",
    "- En cada ejercicio se deben leer los datos necesarios para su resolución."
   ]
  },
  {
   "cell_type": "markdown",
   "metadata": {},
   "source": [
    "## Ejercicio 1\n",
    "\n",
    "Utilizando el conjunto de datos \"precio_casas.csv\" realizar las siguientes tareas:\n",
    "\n",
    "- Imprimir el nombre de cada columna seguido del valor medio, valor máximo y valor mínimo de dicha columna.\n",
    "- Imprimir el número de filas cuya suma sea inferior a 1000\n",
    "- Imprimir el nombre de las columnas cuya suma sea superior a 100000"
   ]
  },
  {
   "cell_type": "code",
   "execution_count": null,
   "metadata": {},
   "outputs": [],
   "source": [
    "\n"
   ]
  },
  {
   "cell_type": "markdown",
   "metadata": {},
   "source": [
    "## Ejercicio 2\n",
    "\n",
    "Utilizando el conjunto de datos \"precio_casas-perdidos.csv\" realizar las siguientes tareas:\n",
    "\n",
    "- Imprimir el nombre de las columnas que posean algún valor perdido y el número de valores perdidos.\n",
    "- Para cada columna con valores perdidos, sustituir los que se encuentren en las 1000 primeras filas por la media de la columna.\n",
    "- Representar gráficamente los valores de las columnas que no poseen valores perdidos. La gráfica debe tener como titulo el nombre de la columna que representa."
   ]
  },
  {
   "cell_type": "code",
   "execution_count": null,
   "metadata": {},
   "outputs": [],
   "source": []
  },
  {
   "cell_type": "markdown",
   "metadata": {},
   "source": [
    "## Ejercicio 3\n",
    "\n",
    "Utilizando el conjunto de datos \"precio_casas.csv\" realizar las siguientes tareas:\n",
    "\n",
    "- Obtener un estimador basado en regresión lineal de la variable \"Mediana precio\" a partir del resto.\n",
    "- Mostrar por pantalla los coeficientes de regresión del estimador antes calculado.\n",
    "- Mostrar mediante un gráfico de barras los coeficientes de regresión."
   ]
  },
  {
   "cell_type": "code",
   "execution_count": null,
   "metadata": {},
   "outputs": [],
   "source": []
  },
  {
   "cell_type": "markdown",
   "metadata": {},
   "source": [
    "## Ejercicio 4\n",
    "\n",
    "Utilizando el conjunto de datos \"precio_casas.csv\" realizar las siguientes tareas:\n",
    "\n",
    "- Dividir el conjunto de datos en dos subconjuntos: entrenamiento con el 80% de las muestras y test con las restantes.\n",
    "- Obtener un estimador basado en regresión lineal de la variable \"Mediana precio\" a partir del resto.\n",
    "- Mostrar el RMSE y el $R^2$ tanto para el conjunto de entrenamiento como para el de test.\n",
    "- Obtener un estimador utilizando las 3 variables con mayor $R^2$ del conjunto completo.\n",
    "- Mostrar el RMSE y el $R^2$ del estimador anterior para el conjunto de entrenamiento y el de test."
   ]
  },
  {
   "cell_type": "code",
   "execution_count": null,
   "metadata": {},
   "outputs": [],
   "source": []
  },
  {
   "cell_type": "markdown",
   "metadata": {},
   "source": [
    "## Ejercicio 5\n",
    "\n",
    "Utilizando el conjunto de datos \"precio_casas.csv\" realizar las siguientes tareas:\n",
    "\n",
    "- Dividir el conjunto de datos en dos subconjuntos: entrenamiento con el 80% de las muestras y test con las restantes.\n",
    "- Obtener un estimador univariable basado en regresión lineal para la variable \"Mediana precio\".\n",
    "- Para las 4 variables con menor RMSE en el conjunto de test, mostrar gráficamente las muestras del conjunto de entrenamiento y la recta de regresión obtenida.\n",
    "- Para las 4 variables con menor RMSE en el conjunto de test, mostrar gráficamente las muestras del conjunto de test y la recta de regresión obtenida."
   ]
  },
  {
   "cell_type": "code",
   "execution_count": null,
   "metadata": {},
   "outputs": [],
   "source": []
  }
 ],
 "metadata": {
  "kernelspec": {
   "display_name": "gpu",
   "language": "python",
   "name": "python3"
  },
  "language_info": {
   "codemirror_mode": {
    "name": "ipython",
    "version": 3
   },
   "file_extension": ".py",
   "mimetype": "text/x-python",
   "name": "python",
   "nbconvert_exporter": "python",
   "pygments_lexer": "ipython3",
   "version": "3.10.12"
  }
 },
 "nbformat": 4,
 "nbformat_minor": 2
}
