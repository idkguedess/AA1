{
 "cells": [
  {
   "cell_type": "markdown",
   "metadata": {},
   "source": [
    "# Ejercicios AA1\n",
    "\n",
    "## 1. Entorno de desarrollo y librerías básicas.\n",
    "\n",
    "### 1.1 Librería Pandas"
   ]
  },
  {
   "cell_type": "code",
   "execution_count": 59,
   "metadata": {},
   "outputs": [
    {
     "name": "stdout",
     "output_type": "stream",
     "text": [
      "Número de elementos: 30\n",
      "Número de columnas: 6\n",
      "Nombres de las columnas: ['matrícula', 'marca', 'modelo', 'año', 'kms', 'precio']\n",
      "       marca  modelo\n",
      "0     Toyota   Camry\n",
      "1      Honda  Accord\n",
      "2       Ford  Fusion\n",
      "3  Chevrolet  Malibu\n",
      "4     Nissan  Altima\n",
      "Número de marcas diferentes: 5\n",
      "Marcas diferentes: ['Toyota' 'Honda' 'Ford' 'Chevrolet' 'Nissan']\n",
      "Empty DataFrame\n",
      "Columns: [matrícula, marca, modelo, año, kms, precio]\n",
      "Index: []\n",
      "marca\n",
      "Chevrolet    34987.0\n",
      "Ford         22456.0\n",
      "Honda        30278.0\n",
      "Nissan       38163.0\n",
      "Toyota       25153.0\n",
      "Name: kms, dtype: float64\n",
      "  matrícula      marca  modelo   año    kms  precio\n",
      "0    ABC123     Toyota   Camry  2019  25153    6300\n",
      "1    XYZ456      Honda  Accord  2018  30278   10000\n",
      "2    DEF789       Ford  Fusion  2020  22456    5000\n",
      "3    GHI012  Chevrolet  Malibu  2017  34987    8500\n",
      "4    JKL345     Nissan  Altima  2016  38163    4200\n"
     ]
    }
   ],
   "source": [
    "import pandas as pd\n",
    "\n",
    "# Leer el archivo anterior y mostrar el número de elementos que posee, el número de columnas y sus nombres\n",
    "df = pd.read_csv('parte1/data/coches.csv')\n",
    "\n",
    "print(f'Número de elementos: {df.size}')\n",
    "print(f'Número de columnas: {df.shape[1]}')\n",
    "print(f'Nombres de las columnas: {df.columns.tolist()}')\n",
    "\n",
    "# Mostrar de las 5 primeras filas solo la marca y el modelo\n",
    "print(df[['marca', 'modelo']].head())\n",
    "\n",
    "# Obtener cuantas marcas diferentes y cuáles son\n",
    "print(f'Número de marcas diferentes: {df.marca.nunique()}')\n",
    "print(f'Marcas diferentes: {df.marca.unique()}')\n",
    "\n",
    "# Mostrar los coches de la marca Opel\n",
    "print(df[df.marca == 'Opel'])\n",
    "\n",
    "# Calcular los km promedio de cada marca\n",
    "print(df.groupby('marca').kms.mean())\n",
    "\n",
    "# Sumar 1000 euros al precio de los coches de año posterior a 2015\n",
    "df.loc[df.año > 2015, 'precio'] += 1000\n",
    "print(df.loc[df.año > 2015])"
   ]
  },
  {
   "cell_type": "markdown",
   "metadata": {},
   "source": [
    "### 1.2 Librería Numpy"
   ]
  },
  {
   "cell_type": "code",
   "execution_count": 60,
   "metadata": {},
   "outputs": [
    {
     "name": "stdout",
     "output_type": "stream",
     "text": [
      "[0. 0. 0. 0. 1. 0. 0. 0. 0. 0.]\n",
      "--------------------\n",
      "[[38 48 13 40 11 22 40 15 11 43]]\n",
      "--------------------\n",
      "[[1 4 6]\n",
      " [6 4 3]\n",
      " [4 3 1]]\n",
      "--------------------\n",
      "[[1. 0. 0. 0.]\n",
      " [0. 1. 0. 0.]\n",
      " [0. 0. 1. 0.]\n",
      " [0. 0. 0. 1.]]\n",
      "--------------------\n",
      "[[[0.23979587 0.37029607 0.11916815]\n",
      "  [0.71228928 0.42144608 0.22822206]\n",
      "  [0.07917878 0.95092874 0.06426453]]\n",
      "\n",
      " [[0.04038174 0.63070127 0.78080605]\n",
      "  [0.40660452 0.3565501  0.72825814]\n",
      "  [0.17730502 0.06260703 0.72053325]]\n",
      "\n",
      " [[0.95249912 0.83041673 0.70334455]\n",
      "  [0.41743256 0.07049084 0.30415275]\n",
      "  [0.68387939 0.65299816 0.63949297]]]\n",
      "--------------------\n",
      "[[1. 1. 1. 1. 1.]\n",
      " [1. 0. 0. 0. 1.]\n",
      " [1. 0. 0. 0. 1.]\n",
      " [1. 0. 0. 0. 1.]\n",
      " [1. 1. 1. 1. 1.]]\n",
      "--------------------\n",
      "[0.65150465 0.41155247 0.15308502 0.09031613 0.         0.3111903\n",
      " 0.7217978  0.45045996 0.40163467 0.05943183]\n",
      "--------------------\n",
      "[[14 16 17  5 17 22 10 17 19 19]]\n",
      "El valor más cercano a 1 es 3 y se encuentra en la posición 5\n",
      "--------------------\n"
     ]
    }
   ],
   "source": [
    "import numpy as np\n",
    "# Crear un vector de tamaño 10 de ceros excepto el quinto elemento que será 1.\n",
    "v = np.zeros(10)\n",
    "v[4] = 1\n",
    "print(v)\n",
    "\n",
    "print(\"--------------------\")\n",
    "\n",
    "# Crear un vector con valores entre 10 y 49.\n",
    "v = np.random.randint(10,49, size=(1,10))\n",
    "print(v)\n",
    "\n",
    "print(\"--------------------\")\n",
    "\n",
    "\n",
    "# Crear una matriz de 3x3 con valores entre 0 y 8.\n",
    "v = np.random.randint(0,8, size=(3,3))\n",
    "print(v)\n",
    "\n",
    "print(\"--------------------\")\n",
    "\n",
    "# Crear una matriz identidad de dimensiones 4x4.\n",
    "v = np.eye(4)\n",
    "print(v)\n",
    "\n",
    "print(\"--------------------\")\n",
    "\n",
    "# Crear un array de dimensiones 3x3x3 con valores aleatorios.\n",
    "v = np.random.random((3,3,3))\n",
    "print(v)\n",
    "\n",
    "print(\"--------------------\")\n",
    "\n",
    "# Crear una matriz de 5x5 con 1 en los bordes y 0 en el interior.\n",
    "v = np.ones((5,5))\n",
    "v[1:-1,1:-1] = 0\n",
    "print(v)\n",
    "\n",
    "print(\"--------------------\")\n",
    "\n",
    "# Crear un vector de tamaño 10 con valores aleatorios y modificar el valor máximo por 0.\n",
    "v = np.random.random(10)\n",
    "v[v == v.max()] = 0\n",
    "print(v)\n",
    "\n",
    "print(\"--------------------\")\n",
    "\n",
    "# ¿Cómo encontrar el valor más próximo a un escalar dado, en un vector?\n",
    "v = np.random.randint(0, 25, size=(1,10))\n",
    "print(v)\n",
    "escalar = 1\n",
    "v2 = np.abs(v - escalar)\n",
    "print(f\"El valor más cercano a {escalar} es {v.argmin()} y se encuentra en la posición {v.min()}\")\n",
    "\n",
    "print(\"--------------------\")"
   ]
  },
  {
   "cell_type": "markdown",
   "metadata": {},
   "source": [
    "## 2 Preprocesado básico de datos\n",
    "\n",
    "### Ejercicios propuestos"
   ]
  },
  {
   "cell_type": "code",
   "execution_count": 61,
   "metadata": {},
   "outputs": [
    {
     "name": "stdout",
     "output_type": "stream",
     "text": [
      "     sepal length  sepal width  petal length  petal width           class\n",
      "0             NaN          3.5           1.4          0.2     Iris-setosa\n",
      "1             4.9          3.0           1.4          0.2     Iris-setosa\n",
      "2             4.7          3.2           1.3          0.2     Iris-setosa\n",
      "3             4.6          3.1           1.5          0.2     Iris-setosa\n",
      "4             5.0          3.6           1.4          0.2     Iris-setosa\n",
      "..            ...          ...           ...          ...             ...\n",
      "145           6.7          3.0           5.2          2.3  Iris-virginica\n",
      "146           6.3          2.5           5.0          1.9  Iris-virginica\n",
      "147           6.5          3.0           5.2          2.0  Iris-virginica\n",
      "148           6.2          3.4           5.4          2.3  Iris-virginica\n",
      "149           5.9          3.0           5.1          1.8  Iris-virginica\n",
      "\n",
      "[150 rows x 5 columns]\n",
      "[0.   0.25 0.5  0.75 1.  ]\n",
      "[0 1 2 0 1 2]\n",
      "['a' 'b' 'c' 'a' 'b' 'c']\n"
     ]
    }
   ],
   "source": [
    "# Utilizando los datos del archivo iris-perdidos.csv, sustituir para cada variable \n",
    "# los valores perdidos por el promedio de los valores de dicha variable.\n",
    "\n",
    "df = pd.read_csv('parte1/data/iris-perdidos.csv', sep = ',')\n",
    "\n",
    "for col in df.columns[:-1]:\n",
    "    df[col].fillna(df[col].mean())\n",
    "\n",
    "print(df)\n",
    "\n",
    "# Implementar una función que acepte un array unidimensional y dos valores reales,\n",
    "# minimo y maximo, y realice el escalado del array entre los valores minimo y\n",
    "# maximo.\n",
    "\n",
    "def escalar(arr, minimo, maximo):\n",
    "    return (arr - arr.min()) / (arr.max() - arr.min()) * (maximo - minimo)\n",
    "\n",
    "print(escalar(np.array([1,2,3,4,5]), 0, 1))\n",
    "\n",
    "# Implementar una clase en Python que permita convertir valores simbólicos a nu-\n",
    "# méricos. La clase además del constructor debe poseer los métodos convertir,\n",
    "# convertir_inversa. El primer método admite un array con valores simbólicos\n",
    "# y devuelve otro array con los valores numéricos. El segundo método debe tomar\n",
    "#como entrada un array que previamente fue convertido a numérico y devolver el\n",
    "# correspondiente con valores simbólicos.\n",
    "\n",
    "class Convertidor:\n",
    "    def __init__(self):\n",
    "        self.mapa = {}\n",
    "        self.contador = 0\n",
    "\n",
    "    def convertir(self, arr):\n",
    "        for i in arr:\n",
    "            if i not in self.mapa:\n",
    "                self.mapa[i] = self.contador\n",
    "                self.contador += 1\n",
    "        return np.array([self.mapa[i] for i in arr])\n",
    "\n",
    "    def convertir_inversa(self, arr):\n",
    "        return np.array([list(self.mapa.keys())[list(self.mapa.values()).index(i)] for i in arr])\n",
    "    \n",
    "c = Convertidor()\n",
    "arr = np.array(['a', 'b', 'c', 'a', 'b', 'c'])\n",
    "arr_num = c.convertir(arr)\n",
    "print(arr_num)\n",
    "arr_simb = c.convertir_inversa(arr_num)\n",
    "print(arr_simb)"
   ]
  },
  {
   "cell_type": "code",
   "execution_count": 68,
   "metadata": {},
   "outputs": [
    {
     "data": {
      "image/png": "[encoded data removed]",
      "text/plain": [
       "<Figure size 640x480 with 1 Axes>"
      ]
     },
     "metadata": {},
     "output_type": "display_data"
    },
    {
     "data": {
      "image/png": "[encoded data removed]",
      "text/plain": [
       "<Figure size 640x480 with 1 Axes>"
      ]
     },
     "metadata": {},
     "output_type": "display_data"
    },
    {
     "name": "stdout",
     "output_type": "stream",
     "text": [
      "0.9333333333333333\n"
     ]
    }
   ],
   "source": [
    "# Ejercico 6\n",
    "\n",
    "# Generar un conjunto de datos sintéticos con 100 muestras utilizando la función\n",
    "# make_blobs con dos características y tres clases. Las clases estarán centradas en\n",
    "# el espacio de características en ((0,0), (2,2), (2,0])) y desviación estándar para los\n",
    "# clusters igual a 0.6\n",
    "\n",
    "from sklearn.datasets import make_blobs\n",
    "import matplotlib.pyplot as plt\n",
    "\n",
    "X, y = make_blobs(n_samples=100, centers=[(0,0), (2,2), (2,0)], cluster_std=0.6, random_state=567)\n",
    "\n",
    "\n",
    "n_clases=3\n",
    "\n",
    "# Dividir el conjunto de datos en 70 % de las muestras para entrenamiento y el resto\n",
    "# para test usando como semilla el valor 567; y obtener el clasificador mediante el\n",
    "# método Perceptrón.\n",
    "\n",
    "from sklearn.model_selection import train_test_split\n",
    "from sklearn.linear_model import Perceptron\n",
    "\n",
    "X_train, X_test, y_train, y_test = train_test_split(X, y, test_size=0.3, random_state=567)\n",
    "clf = Perceptron()\n",
    "clf.fit(X_train, y_train)\n",
    "\n",
    "# Dibujar las muestras de entrenamiento y las superficies de decisión.\n",
    "\n",
    "for clase in range(n_clases):\n",
    "    m = -clf.coef_[clase][0] / clf.coef_[clase][1]\n",
    "    n = -clf.intercept_[clase] / clf.coef_[clase][1]\n",
    "    recta = X_train[:,0] * m + n\n",
    "    puntos_clase = y_train == clase\n",
    "    plt.scatter(X_train[puntos_clase,0], X_train[puntos_clase, 1])\n",
    "    plt.plot(X_train[:,0], recta, 'r')\n",
    "plt.ylim(-10, 10)\n",
    "plt.show()\n",
    "\n",
    "# Dibujar las muestras de test y las superficies de decisión.\n",
    "\n",
    "for clase in range(n_clases):\n",
    "    m = -clf.coef_[clase][0] / clf.coef_[clase][1]\n",
    "    n = -clf.intercept_[clase] / clf.coef_[clase][1]\n",
    "    recta = X_test[:,0] * m + n\n",
    "    puntos_clase = y_test == clase\n",
    "    plt.scatter(X_test[puntos_clase,0], X_test[puntos_clase, 1])\n",
    "    plt.plot(X_test[:,0], recta, 'r')\n",
    "plt.ylim(-10, 10)\n",
    "plt.show()\n",
    "\n",
    "# Obtener la exactitud del clasificador en el conjunto de test y analizar el resultado de\n",
    "# acuerdo a la gráfica del apartado anterior.\n",
    "\n",
    "from sklearn.metrics import accuracy_score\n",
    "\n",
    "y_pred = clf.predict(X_test)\n",
    "print(accuracy_score(y_test, y_pred))"
   ]
  },
  {
   "cell_type": "code",
   "execution_count": 93,
   "metadata": {},
   "outputs": [
    {
     "name": "stdout",
     "output_type": "stream",
     "text": [
      "0.844\n"
     ]
    }
   ],
   "source": [
    "# Leer el conjunto de entrenamiento y de test de los archivos CelebA-1K-train.csv\n",
    "# y CelebA-1K-test.csv respectivamente\n",
    "\n",
    "train = pd.read_csv('datos_p5/CelebA-1K-train.csv')\n",
    "train = train.drop(columns=['Image_name'])\n",
    "test = pd.read_csv('datos_p5/CelebA-1K-test.csv')\n",
    "test = test.drop(columns=['Image_name'])\n",
    "\n",
    "# Entrenar un clasificador biclásico utilizando el método Perceptrón y obtener la tasa\n",
    "# de acierto del clasificador en las muestras del conjunto de test (utilizar la función\n",
    "# accuracy_score y en el conjunto de train.\n",
    "\n",
    "clf = Perceptron()\n",
    "clf.fit(train.iloc[:,1:], train.iloc[:,0])\n",
    "y_pred = clf.predict(test.iloc[:,1:])\n",
    "print(accuracy_score(test.iloc[:,0], y_pred))"
   ]
  }
 ],
 "metadata": {
  "kernelspec": {
   "display_name": "Python 3",
   "language": "python",
   "name": "python3"
  },
  "language_info": {
   "codemirror_mode": {
    "name": "ipython",
    "version": 3
   },
   "file_extension": ".py",
   "mimetype": "text/x-python",
   "name": "python",
   "nbconvert_exporter": "python",
   "pygments_lexer": "ipython3",
   "version": "3.10.7"
  }
 },
 "nbformat": 4,
 "nbformat_minor": 2
}
